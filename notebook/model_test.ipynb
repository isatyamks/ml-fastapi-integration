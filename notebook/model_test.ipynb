{
 "cells": [
  {
   "cell_type": "code",
   "execution_count": 3,
   "id": "d4315031-1d55-455e-8a42-c3bd816a528f",
   "metadata": {},
   "outputs": [],
   "source": [
    "import pickle\n"
   ]
  },
  {
   "cell_type": "code",
   "execution_count": 4,
   "id": "a9c6c748-4882-4bb7-9eb9-7d2b89641ded",
   "metadata": {},
   "outputs": [],
   "source": [
    "with open('..//saved_model//model.pkl', 'rb') as file:\n",
    "    model = pickle.load(file)"
   ]
  },
  {
   "cell_type": "code",
   "execution_count": 5,
   "id": "a920e134-5ad0-45f5-bea9-2184372a9df8",
   "metadata": {},
   "outputs": [],
   "source": [
    "with open('..//saved_model//vectorizer.pkl', 'rb') as file:\n",
    "    vectorizer = pickle.load(file)"
   ]
  },
  {
   "cell_type": "code",
   "execution_count": 6,
   "id": "d05ccbb1-9834-453e-bcd7-b3f5aa87e04c",
   "metadata": {},
   "outputs": [],
   "source": [
    "import pandas as pd"
   ]
  },
  {
   "cell_type": "code",
   "execution_count": 8,
   "id": "38acd3f7-34e1-4755-8ef7-9638c4007187",
   "metadata": {},
   "outputs": [],
   "source": [
    "test_data= pd.read_csv(\"..//data//test.csv\")"
   ]
  },
  {
   "cell_type": "code",
   "execution_count": 15,
   "id": "d7b1aa08-35ed-4789-806a-b8f993541bf1",
   "metadata": {},
   "outputs": [
    {
     "data": {
      "text/plain": [
       "(2000, 2)"
      ]
     },
     "execution_count": 15,
     "metadata": {},
     "output_type": "execute_result"
    }
   ],
   "source": [
    "test_data.shape"
   ]
  },
  {
   "cell_type": "code",
   "execution_count": 12,
   "id": "324ba46d-a43b-4e91-bb58-99a83bdd6f13",
   "metadata": {},
   "outputs": [
    {
     "data": {
      "text/plain": [
       "2"
      ]
     },
     "execution_count": 12,
     "metadata": {},
     "output_type": "execute_result"
    }
   ],
   "source": [
    "for text in test_data:\n",
    "    count "
   ]
  },
  {
   "cell_type": "code",
   "execution_count": null,
   "id": "5d764de9-70ee-47c7-95fb-d89805bfe6a7",
   "metadata": {},
   "outputs": [],
   "source": []
  }
 ],
 "metadata": {
  "kernelspec": {
   "display_name": "Python 3 (ipykernel)",
   "language": "python",
   "name": "python3"
  },
  "language_info": {
   "codemirror_mode": {
    "name": "ipython",
    "version": 3
   },
   "file_extension": ".py",
   "mimetype": "text/x-python",
   "name": "python",
   "nbconvert_exporter": "python",
   "pygments_lexer": "ipython3",
   "version": "3.12.3"
  }
 },
 "nbformat": 4,
 "nbformat_minor": 5
}
